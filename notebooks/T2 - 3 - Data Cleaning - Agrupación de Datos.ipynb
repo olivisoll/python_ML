{
 "cells": [
  {
   "cell_type": "markdown",
   "metadata": {},
   "source": [
    "# Agregación de datos por categoría"
   ]
  },
  {
   "cell_type": "code",
   "execution_count": 1,
   "metadata": {},
   "outputs": [],
   "source": [
    "import numpy as np\n",
    "import pandas as pd"
   ]
  },
  {
   "cell_type": "code",
   "execution_count": 2,
   "metadata": {},
   "outputs": [],
   "source": [
    "gender = [\"Male\", \"Female\"]\n",
    "income_cat = [\"Poor\", \"Middle Class\", \"Rich\"]"
   ]
  },
  {
   "cell_type": "code",
   "execution_count": 3,
   "metadata": {},
   "outputs": [],
   "source": [
    "n = 500 # tamaño del dataset\n",
    "gender_data = []\n",
    "income_data = []\n",
    "\n",
    "for i in range(0,500):\n",
    "    gender_data.append(np.random.choice(gender))\n",
    "    income_data.append(np.random.choice(income))\n"
   ]
  },
  {
   "cell_type": "code",
   "execution_count": 8,
   "metadata": {},
   "outputs": [
    {
     "data": {
      "text/plain": [
       "['Male',\n",
       " 'Male',\n",
       " 'Female',\n",
       " 'Male',\n",
       " 'Male',\n",
       " 'Female',\n",
       " 'Female',\n",
       " 'Female',\n",
       " 'Female']"
      ]
     },
     "execution_count": 8,
     "metadata": {},
     "output_type": "execute_result"
    }
   ],
   "source": [
    "gender_data[1:10]"
   ]
  },
  {
   "cell_type": "code",
   "execution_count": 9,
   "metadata": {},
   "outputs": [
    {
     "data": {
      "text/plain": [
       "['Poor',\n",
       " 'Middle Class',\n",
       " 'Middle Class',\n",
       " 'Rich',\n",
       " 'Rich',\n",
       " 'Poor',\n",
       " 'Rich',\n",
       " 'Rich',\n",
       " 'Poor']"
      ]
     },
     "execution_count": 9,
     "metadata": {},
     "output_type": "execute_result"
    }
   ],
   "source": [
    "income_data[1:10]"
   ]
  },
  {
   "cell_type": "code",
   "execution_count": 10,
   "metadata": {},
   "outputs": [],
   "source": [
    "# Z -> N(0,1)\n",
    "# N(m,s) -> m+s * Z\n",
    "height = 160 + 30 * np.random.randn(n)\n",
    "weight = 65 + 25 * np.random.randn(n)\n",
    "age = 30 + 12 * np.random.randn(n)\n",
    "income = 18000 + 3500 * np.random.rand(n)"
   ]
  },
  {
   "cell_type": "code",
   "execution_count": 13,
   "metadata": {},
   "outputs": [],
   "source": [
    "data = pd.DataFrame(\n",
    "    {\n",
    "        \"Gender\": gender_data,\n",
    "        \"Economic Status\": income_data,\n",
    "        \"Height\": height,\n",
    "        \"Weight\": weight,\n",
    "        \"Age\": age,\n",
    "        \"Income\": income\n",
    "    }\n",
    ")"
   ]
  },
  {
   "cell_type": "code",
   "execution_count": 14,
   "metadata": {},
   "outputs": [
    {
     "data": {
      "text/html": [
       "<div>\n",
       "<style scoped>\n",
       "    .dataframe tbody tr th:only-of-type {\n",
       "        vertical-align: middle;\n",
       "    }\n",
       "\n",
       "    .dataframe tbody tr th {\n",
       "        vertical-align: top;\n",
       "    }\n",
       "\n",
       "    .dataframe thead th {\n",
       "        text-align: right;\n",
       "    }\n",
       "</style>\n",
       "<table border=\"1\" class=\"dataframe\">\n",
       "  <thead>\n",
       "    <tr style=\"text-align: right;\">\n",
       "      <th></th>\n",
       "      <th>Gender</th>\n",
       "      <th>Economic Status</th>\n",
       "      <th>Height</th>\n",
       "      <th>Weight</th>\n",
       "      <th>Age</th>\n",
       "      <th>Income</th>\n",
       "    </tr>\n",
       "  </thead>\n",
       "  <tbody>\n",
       "    <tr>\n",
       "      <td>0</td>\n",
       "      <td>Female</td>\n",
       "      <td>Rich</td>\n",
       "      <td>179.514357</td>\n",
       "      <td>38.354575</td>\n",
       "      <td>27.422894</td>\n",
       "      <td>18022.267671</td>\n",
       "    </tr>\n",
       "    <tr>\n",
       "      <td>1</td>\n",
       "      <td>Male</td>\n",
       "      <td>Poor</td>\n",
       "      <td>165.160125</td>\n",
       "      <td>61.653524</td>\n",
       "      <td>22.039982</td>\n",
       "      <td>18735.300358</td>\n",
       "    </tr>\n",
       "    <tr>\n",
       "      <td>2</td>\n",
       "      <td>Male</td>\n",
       "      <td>Middle Class</td>\n",
       "      <td>139.498120</td>\n",
       "      <td>71.300819</td>\n",
       "      <td>32.608946</td>\n",
       "      <td>20930.767807</td>\n",
       "    </tr>\n",
       "    <tr>\n",
       "      <td>3</td>\n",
       "      <td>Female</td>\n",
       "      <td>Middle Class</td>\n",
       "      <td>99.420220</td>\n",
       "      <td>80.412329</td>\n",
       "      <td>33.453004</td>\n",
       "      <td>19765.483997</td>\n",
       "    </tr>\n",
       "    <tr>\n",
       "      <td>4</td>\n",
       "      <td>Male</td>\n",
       "      <td>Rich</td>\n",
       "      <td>169.419939</td>\n",
       "      <td>87.317100</td>\n",
       "      <td>34.737537</td>\n",
       "      <td>21200.731805</td>\n",
       "    </tr>\n",
       "  </tbody>\n",
       "</table>\n",
       "</div>"
      ],
      "text/plain": [
       "   Gender Economic Status      Height     Weight        Age        Income\n",
       "0  Female            Rich  179.514357  38.354575  27.422894  18022.267671\n",
       "1    Male            Poor  165.160125  61.653524  22.039982  18735.300358\n",
       "2    Male    Middle Class  139.498120  71.300819  32.608946  20930.767807\n",
       "3  Female    Middle Class   99.420220  80.412329  33.453004  19765.483997\n",
       "4    Male            Rich  169.419939  87.317100  34.737537  21200.731805"
      ]
     },
     "execution_count": 14,
     "metadata": {},
     "output_type": "execute_result"
    }
   ],
   "source": [
    "data.head()"
   ]
  },
  {
   "cell_type": "markdown",
   "metadata": {},
   "source": [
    "## Agrupación de datos"
   ]
  },
  {
   "cell_type": "code",
   "execution_count": 16,
   "metadata": {},
   "outputs": [],
   "source": [
    "grouped_gender = data.groupby(\"Gender\")"
   ]
  },
  {
   "cell_type": "code",
   "execution_count": 17,
   "metadata": {},
   "outputs": [
    {
     "data": {
      "text/plain": [
       "{'Female': Int64Index([  0,   3,   6,   7,   8,   9,  13,  14,  17,  19,\n",
       "             ...\n",
       "             481, 482, 486, 487, 489, 490, 492, 493, 494, 497],\n",
       "            dtype='int64', length=240),\n",
       " 'Male': Int64Index([  1,   2,   4,   5,  10,  11,  12,  15,  16,  18,\n",
       "             ...\n",
       "             480, 483, 484, 485, 488, 491, 495, 496, 498, 499],\n",
       "            dtype='int64', length=260)}"
      ]
     },
     "execution_count": 17,
     "metadata": {},
     "output_type": "execute_result"
    }
   ],
   "source": [
    "grouped_gender.groups"
   ]
  },
  {
   "cell_type": "code",
   "execution_count": 18,
   "metadata": {},
   "outputs": [
    {
     "name": "stdout",
     "output_type": "stream",
     "text": [
      "Female\n",
      "     Gender Economic Status      Height     Weight        Age        Income\n",
      "0    Female            Rich  179.514357  38.354575  27.422894  18022.267671\n",
      "3    Female    Middle Class   99.420220  80.412329  33.453004  19765.483997\n",
      "6    Female            Poor  150.385814  18.179467  41.676108  20086.475976\n",
      "7    Female            Rich  138.988165  16.344850  44.666182  20046.596771\n",
      "8    Female            Rich  177.102401  66.615389  15.713560  18406.251472\n",
      "..      ...             ...         ...        ...        ...           ...\n",
      "490  Female    Middle Class  137.985144  37.333559  34.927860  20037.299792\n",
      "492  Female    Middle Class  118.343957  53.336781  13.199206  20552.161183\n",
      "493  Female            Rich  195.296411  21.848592  35.430546  21414.141753\n",
      "494  Female            Rich  174.999901  56.001101  54.427746  18089.602089\n",
      "497  Female            Rich  183.990852  63.617646  46.218600  19053.392233\n",
      "\n",
      "[240 rows x 6 columns]\n",
      "Male\n",
      "    Gender Economic Status      Height     Weight        Age        Income\n",
      "1     Male            Poor  165.160125  61.653524  22.039982  18735.300358\n",
      "2     Male    Middle Class  139.498120  71.300819  32.608946  20930.767807\n",
      "4     Male            Rich  169.419939  87.317100  34.737537  21200.731805\n",
      "5     Male            Rich  118.619593  42.892326  16.160080  18257.062652\n",
      "10    Male            Rich  113.685971  64.085650  17.367871  20731.501335\n",
      "..     ...             ...         ...        ...        ...           ...\n",
      "491   Male            Rich  180.341639  87.075143  29.402407  20816.519081\n",
      "495   Male    Middle Class  159.122530  58.377588  20.595510  21270.173171\n",
      "496   Male    Middle Class  187.549657  44.861979  32.025641  21403.600864\n",
      "498   Male            Poor  163.318747  64.147366  30.473864  20534.460340\n",
      "499   Male            Poor  174.558787  37.890017  16.171426  19839.530553\n",
      "\n",
      "[260 rows x 6 columns]\n"
     ]
    }
   ],
   "source": [
    "for names, groups in grouped_gender:\n",
    "    print(names)\n",
    "    print(groups)"
   ]
  },
  {
   "cell_type": "code",
   "execution_count": 19,
   "metadata": {},
   "outputs": [
    {
     "data": {
      "text/html": [
       "<div>\n",
       "<style scoped>\n",
       "    .dataframe tbody tr th:only-of-type {\n",
       "        vertical-align: middle;\n",
       "    }\n",
       "\n",
       "    .dataframe tbody tr th {\n",
       "        vertical-align: top;\n",
       "    }\n",
       "\n",
       "    .dataframe thead th {\n",
       "        text-align: right;\n",
       "    }\n",
       "</style>\n",
       "<table border=\"1\" class=\"dataframe\">\n",
       "  <thead>\n",
       "    <tr style=\"text-align: right;\">\n",
       "      <th></th>\n",
       "      <th>Economic Status</th>\n",
       "      <th>Height</th>\n",
       "      <th>Weight</th>\n",
       "      <th>Age</th>\n",
       "      <th>Income</th>\n",
       "    </tr>\n",
       "  </thead>\n",
       "  <tbody>\n",
       "    <tr>\n",
       "      <td>0</td>\n",
       "      <td>Rich</td>\n",
       "      <td>179.514357</td>\n",
       "      <td>38.354575</td>\n",
       "      <td>27.422894</td>\n",
       "      <td>18022.267671</td>\n",
       "    </tr>\n",
       "    <tr>\n",
       "      <td>3</td>\n",
       "      <td>Middle Class</td>\n",
       "      <td>99.420220</td>\n",
       "      <td>80.412329</td>\n",
       "      <td>33.453004</td>\n",
       "      <td>19765.483997</td>\n",
       "    </tr>\n",
       "    <tr>\n",
       "      <td>6</td>\n",
       "      <td>Poor</td>\n",
       "      <td>150.385814</td>\n",
       "      <td>18.179467</td>\n",
       "      <td>41.676108</td>\n",
       "      <td>20086.475976</td>\n",
       "    </tr>\n",
       "    <tr>\n",
       "      <td>7</td>\n",
       "      <td>Rich</td>\n",
       "      <td>138.988165</td>\n",
       "      <td>16.344850</td>\n",
       "      <td>44.666182</td>\n",
       "      <td>20046.596771</td>\n",
       "    </tr>\n",
       "    <tr>\n",
       "      <td>8</td>\n",
       "      <td>Rich</td>\n",
       "      <td>177.102401</td>\n",
       "      <td>66.615389</td>\n",
       "      <td>15.713560</td>\n",
       "      <td>18406.251472</td>\n",
       "    </tr>\n",
       "    <tr>\n",
       "      <td>...</td>\n",
       "      <td>...</td>\n",
       "      <td>...</td>\n",
       "      <td>...</td>\n",
       "      <td>...</td>\n",
       "      <td>...</td>\n",
       "    </tr>\n",
       "    <tr>\n",
       "      <td>490</td>\n",
       "      <td>Middle Class</td>\n",
       "      <td>137.985144</td>\n",
       "      <td>37.333559</td>\n",
       "      <td>34.927860</td>\n",
       "      <td>20037.299792</td>\n",
       "    </tr>\n",
       "    <tr>\n",
       "      <td>492</td>\n",
       "      <td>Middle Class</td>\n",
       "      <td>118.343957</td>\n",
       "      <td>53.336781</td>\n",
       "      <td>13.199206</td>\n",
       "      <td>20552.161183</td>\n",
       "    </tr>\n",
       "    <tr>\n",
       "      <td>493</td>\n",
       "      <td>Rich</td>\n",
       "      <td>195.296411</td>\n",
       "      <td>21.848592</td>\n",
       "      <td>35.430546</td>\n",
       "      <td>21414.141753</td>\n",
       "    </tr>\n",
       "    <tr>\n",
       "      <td>494</td>\n",
       "      <td>Rich</td>\n",
       "      <td>174.999901</td>\n",
       "      <td>56.001101</td>\n",
       "      <td>54.427746</td>\n",
       "      <td>18089.602089</td>\n",
       "    </tr>\n",
       "    <tr>\n",
       "      <td>497</td>\n",
       "      <td>Rich</td>\n",
       "      <td>183.990852</td>\n",
       "      <td>63.617646</td>\n",
       "      <td>46.218600</td>\n",
       "      <td>19053.392233</td>\n",
       "    </tr>\n",
       "  </tbody>\n",
       "</table>\n",
       "<p>240 rows × 5 columns</p>\n",
       "</div>"
      ],
      "text/plain": [
       "    Economic Status      Height     Weight        Age        Income\n",
       "0              Rich  179.514357  38.354575  27.422894  18022.267671\n",
       "3      Middle Class   99.420220  80.412329  33.453004  19765.483997\n",
       "6              Poor  150.385814  18.179467  41.676108  20086.475976\n",
       "7              Rich  138.988165  16.344850  44.666182  20046.596771\n",
       "8              Rich  177.102401  66.615389  15.713560  18406.251472\n",
       "..              ...         ...        ...        ...           ...\n",
       "490    Middle Class  137.985144  37.333559  34.927860  20037.299792\n",
       "492    Middle Class  118.343957  53.336781  13.199206  20552.161183\n",
       "493            Rich  195.296411  21.848592  35.430546  21414.141753\n",
       "494            Rich  174.999901  56.001101  54.427746  18089.602089\n",
       "497            Rich  183.990852  63.617646  46.218600  19053.392233\n",
       "\n",
       "[240 rows x 5 columns]"
      ]
     },
     "execution_count": 19,
     "metadata": {},
     "output_type": "execute_result"
    }
   ],
   "source": [
    "grouped_gender.get_group(\"Female\") ## Genera un dataframe"
   ]
  },
  {
   "cell_type": "code",
   "execution_count": 20,
   "metadata": {},
   "outputs": [],
   "source": [
    "# Agrupación por más de una categoría\n",
    "double_group = data.groupby([\"Gender\", \"Economic Status\"])"
   ]
  },
  {
   "cell_type": "code",
   "execution_count": 21,
   "metadata": {},
   "outputs": [
    {
     "data": {
      "text/plain": [
       "6"
      ]
     },
     "execution_count": 21,
     "metadata": {},
     "output_type": "execute_result"
    }
   ],
   "source": [
    "len(double_group)"
   ]
  },
  {
   "cell_type": "code",
   "execution_count": 22,
   "metadata": {},
   "outputs": [
    {
     "name": "stdout",
     "output_type": "stream",
     "text": [
      "('Female', 'Middle Class')\n",
      "     Gender Economic Status      Height      Weight        Age        Income\n",
      "3    Female    Middle Class   99.420220   80.412329  33.453004  19765.483997\n",
      "13   Female    Middle Class  100.645969   49.521381  15.869042  19131.794528\n",
      "17   Female    Middle Class  165.582249   80.891896  35.645506  19481.166842\n",
      "20   Female    Middle Class  169.666871   68.661432  39.818922  19496.101575\n",
      "30   Female    Middle Class  137.155883   81.534657  16.990878  20311.026305\n",
      "..      ...             ...         ...         ...        ...           ...\n",
      "457  Female    Middle Class  164.989934   55.524088  44.926800  18765.400769\n",
      "461  Female    Middle Class  160.925867   77.231771  14.698483  20332.073688\n",
      "482  Female    Middle Class  158.687032  104.144953  21.400851  19550.695702\n",
      "490  Female    Middle Class  137.985144   37.333559  34.927860  20037.299792\n",
      "492  Female    Middle Class  118.343957   53.336781  13.199206  20552.161183\n",
      "\n",
      "[77 rows x 6 columns]\n",
      "('Female', 'Poor')\n",
      "     Gender Economic Status      Height     Weight        Age        Income\n",
      "6    Female            Poor  150.385814  18.179467  41.676108  20086.475976\n",
      "9    Female            Poor  125.061537  61.527580  33.865046  18490.033464\n",
      "14   Female            Poor  161.398784  53.734784  25.332856  20770.289594\n",
      "19   Female            Poor  169.402009  75.918543  37.349306  21459.198589\n",
      "24   Female            Poor  149.311660  86.791252  46.730161  20829.034404\n",
      "..      ...             ...         ...        ...        ...           ...\n",
      "466  Female            Poor  212.460375  55.096539  37.902353  20955.150276\n",
      "469  Female            Poor  182.410641  55.542857  48.696721  20320.243925\n",
      "471  Female            Poor  119.476499  71.668355  28.932860  18913.300950\n",
      "472  Female            Poor  217.527317  64.440457  23.192766  20390.273546\n",
      "476  Female            Poor  128.550534  50.676361  32.427030  18611.266861\n",
      "\n",
      "[68 rows x 6 columns]\n",
      "('Female', 'Rich')\n",
      "     Gender Economic Status      Height     Weight        Age        Income\n",
      "0    Female            Rich  179.514357  38.354575  27.422894  18022.267671\n",
      "7    Female            Rich  138.988165  16.344850  44.666182  20046.596771\n",
      "8    Female            Rich  177.102401  66.615389  15.713560  18406.251472\n",
      "29   Female            Rich  178.824174  59.414094  21.458014  20051.284971\n",
      "35   Female            Rich  163.607952  83.066109  25.657331  20616.243065\n",
      "..      ...             ...         ...        ...        ...           ...\n",
      "487  Female            Rich  168.947790  34.086522  40.738928  21122.366493\n",
      "489  Female            Rich  161.843292  63.569770  -3.950113  18397.922315\n",
      "493  Female            Rich  195.296411  21.848592  35.430546  21414.141753\n",
      "494  Female            Rich  174.999901  56.001101  54.427746  18089.602089\n",
      "497  Female            Rich  183.990852  63.617646  46.218600  19053.392233\n",
      "\n",
      "[95 rows x 6 columns]\n",
      "('Male', 'Middle Class')\n",
      "    Gender Economic Status      Height      Weight        Age        Income\n",
      "2     Male    Middle Class  139.498120   71.300819  32.608946  20930.767807\n",
      "12    Male    Middle Class  193.174561   67.026603  27.625540  21339.121982\n",
      "15    Male    Middle Class  134.400225  110.613053  11.518262  21472.029031\n",
      "22    Male    Middle Class  138.066740   64.931500  49.522970  18562.390264\n",
      "26    Male    Middle Class  191.498822    3.345398   3.344799  19986.065149\n",
      "..     ...             ...         ...         ...        ...           ...\n",
      "480   Male    Middle Class  120.432464   62.361406  20.562633  21061.249101\n",
      "484   Male    Middle Class  207.882828   53.486593  22.650571  18404.170877\n",
      "485   Male    Middle Class  134.910611  137.715987  24.590110  19471.726278\n",
      "495   Male    Middle Class  159.122530   58.377588  20.595510  21270.173171\n",
      "496   Male    Middle Class  187.549657   44.861979  32.025641  21403.600864\n",
      "\n",
      "[92 rows x 6 columns]\n",
      "('Male', 'Poor')\n",
      "    Gender Economic Status      Height     Weight        Age        Income\n",
      "1     Male            Poor  165.160125  61.653524  22.039982  18735.300358\n",
      "16    Male            Poor  146.351905  63.382279  25.224991  19081.348560\n",
      "23    Male            Poor  145.458693  71.313136  33.697602  21451.006965\n",
      "38    Male            Poor  121.694099  77.543417  50.657587  20142.900949\n",
      "47    Male            Poor  172.474655  58.927005  35.197896  21202.776697\n",
      "..     ...             ...         ...        ...        ...           ...\n",
      "453   Male            Poor  133.674247  16.913319  34.707495  20177.641594\n",
      "464   Male            Poor  148.893708  46.930005  21.361935  19740.891940\n",
      "477   Male            Poor  143.957210  53.076467  17.711129  19295.874366\n",
      "498   Male            Poor  163.318747  64.147366  30.473864  20534.460340\n",
      "499   Male            Poor  174.558787  37.890017  16.171426  19839.530553\n",
      "\n",
      "[86 rows x 6 columns]\n",
      "('Male', 'Rich')\n",
      "    Gender Economic Status      Height     Weight        Age        Income\n",
      "4     Male            Rich  169.419939  87.317100  34.737537  21200.731805\n",
      "5     Male            Rich  118.619593  42.892326  16.160080  18257.062652\n",
      "10    Male            Rich  113.685971  64.085650  17.367871  20731.501335\n",
      "11    Male            Rich  229.881434  56.883389  19.798293  19720.919431\n",
      "18    Male            Rich  182.482403  79.129798  16.198166  19778.895072\n",
      "..     ...             ...         ...        ...        ...           ...\n",
      "470   Male            Rich  112.677314  73.407670  45.769097  20695.710269\n",
      "479   Male            Rich  132.120226  31.588176  24.718956  18328.707179\n",
      "483   Male            Rich   95.315867  53.859855  22.516733  19832.498025\n",
      "488   Male            Rich  146.108319  61.609640  18.657487  21281.841552\n",
      "491   Male            Rich  180.341639  87.075143  29.402407  20816.519081\n",
      "\n",
      "[82 rows x 6 columns]\n"
     ]
    }
   ],
   "source": [
    "for names, groups in double_group:\n",
    "    print(names)\n",
    "    print(groups)"
   ]
  },
  {
   "cell_type": "code",
   "execution_count": null,
   "metadata": {},
   "outputs": [],
   "source": []
  }
 ],
 "metadata": {
  "kernelspec": {
   "display_name": "Python 3",
   "language": "python",
   "name": "python3"
  },
  "language_info": {
   "codemirror_mode": {
    "name": "ipython",
    "version": 3
   },
   "file_extension": ".py",
   "mimetype": "text/x-python",
   "name": "python",
   "nbconvert_exporter": "python",
   "pygments_lexer": "ipython3",
   "version": "3.7.4"
  }
 },
 "nbformat": 4,
 "nbformat_minor": 2
}
