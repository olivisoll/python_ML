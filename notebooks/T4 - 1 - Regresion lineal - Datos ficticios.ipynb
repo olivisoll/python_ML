{
 "cells": [
  {
   "cell_type": "markdown",
   "metadata": {},
   "source": [
    "# Modelos de regresión lineal\n",
    "\n",
    "## Modelo con datos simulados\n",
    "\n",
    "* El modelo de regresión lineal busca algo similar a --> y = a + b * x\n",
    "\n",
    "* X : 100 valores distribuidos según una N(1.5, 2.5)\n",
    "* Ye = 2 + 2,2 * x + e\n",
    "* e estará distribuida según una N(0, 0.8)"
   ]
  },
  {
   "cell_type": "code",
   "execution_count": 3,
   "metadata": {},
   "outputs": [],
   "source": [
    "import pandas as pd\n",
    "import numpy as np\n",
    "import matplotlib.pyplot as plt"
   ]
  },
  {
   "cell_type": "code",
   "execution_count": 2,
   "metadata": {},
   "outputs": [],
   "source": [
    "x = 1.5 + 2.5 * np.random.randn(100)"
   ]
  },
  {
   "cell_type": "code",
   "execution_count": 4,
   "metadata": {},
   "outputs": [
    {
     "data": {
      "text/plain": [
       "[<matplotlib.lines.Line2D at 0x1198a91d0>]"
      ]
     },
     "execution_count": 4,
     "metadata": {},
     "output_type": "execute_result"
    },
    {
     "data": {
      "image/png": "[encoded data removed]",
      "text/plain": [
       "<Figure size 432x288 with 1 Axes>"
      ]
     },
     "metadata": {
      "needs_background": "light"
     },
     "output_type": "display_data"
    }
   ],
   "source": [
    "plt.plot(x)"
   ]
  },
  {
   "cell_type": "code",
   "execution_count": 5,
   "metadata": {},
   "outputs": [],
   "source": [
    "res = 0 + 0.8 * np.random.randn(100)"
   ]
  },
  {
   "cell_type": "code",
   "execution_count": 6,
   "metadata": {},
   "outputs": [],
   "source": [
    "y_pred = 2 + 2.2 * x"
   ]
  },
  {
   "cell_type": "code",
   "execution_count": 7,
   "metadata": {},
   "outputs": [],
   "source": [
    "y_act = 2 + 2.2 * x + res"
   ]
  },
  {
   "cell_type": "code",
   "execution_count": 8,
   "metadata": {},
   "outputs": [],
   "source": [
    "x_list = x.tolist()\n",
    "y_pred_list = y_pred.tolist()\n",
    "y_act_list = y_act.tolist()"
   ]
  },
  {
   "cell_type": "code",
   "execution_count": 10,
   "metadata": {},
   "outputs": [],
   "source": [
    "data = pd.DataFrame(\n",
    "    {\n",
    "        \"x\": x_list,\n",
    "        \"y_act\": y_act_list,\n",
    "        \"y_prediccion\": y_pred_list\n",
    "    }\n",
    ")"
   ]
  },
  {
   "cell_type": "code",
   "execution_count": 11,
   "metadata": {},
   "outputs": [
    {
     "data": {
      "text/html": [
       "<div>\n",
       "<style scoped>\n",
       "    .dataframe tbody tr th:only-of-type {\n",
       "        vertical-align: middle;\n",
       "    }\n",
       "\n",
       "    .dataframe tbody tr th {\n",
       "        vertical-align: top;\n",
       "    }\n",
       "\n",
       "    .dataframe thead th {\n",
       "        text-align: right;\n",
       "    }\n",
       "</style>\n",
       "<table border=\"1\" class=\"dataframe\">\n",
       "  <thead>\n",
       "    <tr style=\"text-align: right;\">\n",
       "      <th></th>\n",
       "      <th>x</th>\n",
       "      <th>y_act</th>\n",
       "      <th>y_prediccion</th>\n",
       "    </tr>\n",
       "  </thead>\n",
       "  <tbody>\n",
       "    <tr>\n",
       "      <td>0</td>\n",
       "      <td>0.279957</td>\n",
       "      <td>3.243813</td>\n",
       "      <td>2.615906</td>\n",
       "    </tr>\n",
       "    <tr>\n",
       "      <td>1</td>\n",
       "      <td>2.356612</td>\n",
       "      <td>6.312269</td>\n",
       "      <td>7.184547</td>\n",
       "    </tr>\n",
       "    <tr>\n",
       "      <td>2</td>\n",
       "      <td>3.026233</td>\n",
       "      <td>9.270267</td>\n",
       "      <td>8.657712</td>\n",
       "    </tr>\n",
       "    <tr>\n",
       "      <td>3</td>\n",
       "      <td>0.145923</td>\n",
       "      <td>1.771752</td>\n",
       "      <td>2.321032</td>\n",
       "    </tr>\n",
       "    <tr>\n",
       "      <td>4</td>\n",
       "      <td>0.955837</td>\n",
       "      <td>4.139310</td>\n",
       "      <td>4.102841</td>\n",
       "    </tr>\n",
       "  </tbody>\n",
       "</table>\n",
       "</div>"
      ],
      "text/plain": [
       "          x     y_act  y_prediccion\n",
       "0  0.279957  3.243813      2.615906\n",
       "1  2.356612  6.312269      7.184547\n",
       "2  3.026233  9.270267      8.657712\n",
       "3  0.145923  1.771752      2.321032\n",
       "4  0.955837  4.139310      4.102841"
      ]
     },
     "execution_count": 11,
     "metadata": {},
     "output_type": "execute_result"
    }
   ],
   "source": [
    "data.head()"
   ]
  },
  {
   "cell_type": "code",
   "execution_count": 17,
   "metadata": {},
   "outputs": [],
   "source": [
    "y_mean = [np.mean(y_act) for i in range(1, len(x_list) + 1)]"
   ]
  },
  {
   "cell_type": "code",
   "execution_count": 49,
   "metadata": {},
   "outputs": [
    {
     "data": {
      "text/plain": [
       "Text(0.5, 1.0, 'Valor Actual VS. Predicción')"
      ]
     },
     "execution_count": 49,
     "metadata": {},
     "output_type": "execute_result"
    },
    {
     "data": {
      "image/png": "[encoded data removed]",
      "text/plain": [
       "<Figure size 432x288 with 1 Axes>"
      ]
     },
     "metadata": {
      "needs_background": "light"
     },
     "output_type": "display_data"
    }
   ],
   "source": [
    "%matplotlib inline\n",
    "\n",
    "plt.plot(x, y_pred, \"b\")\n",
    "plt.plot(x, y_act, \"mo\")\n",
    "plt.plot(x, y_mean, \"c\") # promedio\n",
    "plt.title(\"Valor Actual VS. Predicción\")"
   ]
  },
  {
   "cell_type": "markdown",
   "metadata": {},
   "source": [
    "Parece que la predicción ha sido buena."
   ]
  },
  {
   "cell_type": "code",
   "execution_count": 50,
   "metadata": {},
   "outputs": [],
   "source": [
    "data[\"SSR\"] = (data[\"y_prediccion\"]-np.mean(y_act))**2\n",
    "data[\"SSD\"] = (data[\"y_prediccion\"] - data[\"y_act\"])**2\n",
    "data[\"SST\"] = (data[\"y_act\"] -  np.mean(y_act)) **2"
   ]
  },
  {
   "cell_type": "code",
   "execution_count": 51,
   "metadata": {},
   "outputs": [
    {
     "data": {
      "text/html": [
       "<div>\n",
       "<style scoped>\n",
       "    .dataframe tbody tr th:only-of-type {\n",
       "        vertical-align: middle;\n",
       "    }\n",
       "\n",
       "    .dataframe tbody tr th {\n",
       "        vertical-align: top;\n",
       "    }\n",
       "\n",
       "    .dataframe thead th {\n",
       "        text-align: right;\n",
       "    }\n",
       "</style>\n",
       "<table border=\"1\" class=\"dataframe\">\n",
       "  <thead>\n",
       "    <tr style=\"text-align: right;\">\n",
       "      <th></th>\n",
       "      <th>x</th>\n",
       "      <th>y_act</th>\n",
       "      <th>y_prediccion</th>\n",
       "      <th>SSR</th>\n",
       "      <th>SSD</th>\n",
       "      <th>SST</th>\n",
       "    </tr>\n",
       "  </thead>\n",
       "  <tbody>\n",
       "    <tr>\n",
       "      <td>0</td>\n",
       "      <td>0.279957</td>\n",
       "      <td>3.243813</td>\n",
       "      <td>2.615906</td>\n",
       "      <td>5.238355</td>\n",
       "      <td>0.394266</td>\n",
       "      <td>2.758385</td>\n",
       "    </tr>\n",
       "    <tr>\n",
       "      <td>1</td>\n",
       "      <td>2.356612</td>\n",
       "      <td>6.312269</td>\n",
       "      <td>7.184547</td>\n",
       "      <td>5.197922</td>\n",
       "      <td>0.760869</td>\n",
       "      <td>1.981386</td>\n",
       "    </tr>\n",
       "    <tr>\n",
       "      <td>2</td>\n",
       "      <td>3.026233</td>\n",
       "      <td>9.270267</td>\n",
       "      <td>8.657712</td>\n",
       "      <td>14.085462</td>\n",
       "      <td>0.375224</td>\n",
       "      <td>19.058598</td>\n",
       "    </tr>\n",
       "    <tr>\n",
       "      <td>3</td>\n",
       "      <td>0.145923</td>\n",
       "      <td>1.771752</td>\n",
       "      <td>2.321032</td>\n",
       "      <td>6.675092</td>\n",
       "      <td>0.301708</td>\n",
       "      <td>9.815058</td>\n",
       "    </tr>\n",
       "    <tr>\n",
       "      <td>4</td>\n",
       "      <td>0.955837</td>\n",
       "      <td>4.139310</td>\n",
       "      <td>4.102841</td>\n",
       "      <td>0.642901</td>\n",
       "      <td>0.001330</td>\n",
       "      <td>0.585749</td>\n",
       "    </tr>\n",
       "  </tbody>\n",
       "</table>\n",
       "</div>"
      ],
      "text/plain": [
       "          x     y_act  y_prediccion        SSR       SSD        SST\n",
       "0  0.279957  3.243813      2.615906   5.238355  0.394266   2.758385\n",
       "1  2.356612  6.312269      7.184547   5.197922  0.760869   1.981386\n",
       "2  3.026233  9.270267      8.657712  14.085462  0.375224  19.058598\n",
       "3  0.145923  1.771752      2.321032   6.675092  0.301708   9.815058\n",
       "4  0.955837  4.139310      4.102841   0.642901  0.001330   0.585749"
      ]
     },
     "execution_count": 51,
     "metadata": {},
     "output_type": "execute_result"
    }
   ],
   "source": [
    "data.head()"
   ]
  },
  {
   "cell_type": "code",
   "execution_count": 52,
   "metadata": {},
   "outputs": [],
   "source": [
    "SSR = sum(data[\"SSR\"])\n",
    "SSD = sum(data[\"SSD\"])\n",
    "SST = sum(data[\"SST\"])"
   ]
  },
  {
   "cell_type": "code",
   "execution_count": 53,
   "metadata": {},
   "outputs": [
    {
     "data": {
      "text/plain": [
       "2474.604870569868"
      ]
     },
     "execution_count": 53,
     "metadata": {},
     "output_type": "execute_result"
    }
   ],
   "source": [
    "SSR"
   ]
  },
  {
   "cell_type": "code",
   "execution_count": 54,
   "metadata": {},
   "outputs": [
    {
     "data": {
      "text/plain": [
       "58.29105641040296"
      ]
     },
     "execution_count": 54,
     "metadata": {},
     "output_type": "execute_result"
    }
   ],
   "source": [
    "SSD"
   ]
  },
  {
   "cell_type": "code",
   "execution_count": 55,
   "metadata": {},
   "outputs": [
    {
     "data": {
      "text/plain": [
       "2428.375589067106"
      ]
     },
     "execution_count": 55,
     "metadata": {},
     "output_type": "execute_result"
    }
   ],
   "source": [
    "SST"
   ]
  },
  {
   "cell_type": "code",
   "execution_count": 56,
   "metadata": {},
   "outputs": [
    {
     "data": {
      "text/plain": [
       "2532.8959269802713"
      ]
     },
     "execution_count": 56,
     "metadata": {},
     "output_type": "execute_result"
    }
   ],
   "source": [
    "SSR + SSD"
   ]
  },
  {
   "cell_type": "code",
   "execution_count": 57,
   "metadata": {},
   "outputs": [],
   "source": [
    "R2 = SSR/SST"
   ]
  },
  {
   "cell_type": "code",
   "execution_count": 58,
   "metadata": {},
   "outputs": [
    {
     "data": {
      "text/plain": [
       "1.0190371216507417"
      ]
     },
     "execution_count": 58,
     "metadata": {},
     "output_type": "execute_result"
    }
   ],
   "source": [
    "R2"
   ]
  },
  {
   "cell_type": "code",
   "execution_count": 61,
   "metadata": {},
   "outputs": [
    {
     "data": {
      "text/plain": [
       "(array([ 2.,  5.,  3., 11., 13., 17., 16., 15.,  7., 11.]),\n",
       " array([-1.91476562, -1.58632527, -1.25788493, -0.92944459, -0.60100425,\n",
       "        -0.27256391,  0.05587643,  0.38431677,  0.71275711,  1.04119745,\n",
       "         1.36963779]),\n",
       " <a list of 10 Patch objects>)"
      ]
     },
     "execution_count": 61,
     "metadata": {},
     "output_type": "execute_result"
    },
    {
     "data": {
      "image/png": "[encoded data removed]",
      "text/plain": [
       "<Figure size 432x288 with 1 Axes>"
      ]
     },
     "metadata": {
      "needs_background": "light"
     },
     "output_type": "display_data"
    }
   ],
   "source": [
    "plt.hist(data[\"y_prediccion\"] - data[\"y_act\"])"
   ]
  },
  {
   "cell_type": "markdown",
   "metadata": {},
   "source": [
    "## Ejercicio: demostrar que SST = SSR + SSD\n",
    "\n",
    "Vamos a demostrar formalmente la igualdad SST = SSR + SSD que hemos estado utilizando en la teoría.\n",
    "\n",
    "Utilizando la notación del ejercicio previo, es decir:\n",
    "* ```y_i``` = el valor actual i-ésimo\n",
    "* ```y_m``` = media de los valores actuales\n",
    "* ```z_i``` = valor predictor i-ésimo (el que nos da la recta de regresión).\n",
    "\n",
    "Podemos escribir:\n",
    "\n",
    "```y_i - y_m = (y_i - z_i) + (z_i - y_m)```\n",
    "\n",
    "Y si ahora elevamos al cuadrado, y aplicamos la identidad notable obtenemos que:\n",
    "\n",
    "```(y_i - y_m)^2 = (y_i - z_i)^2 + (z_i - y_m)^2 + 2(y_i + z_i)(z_i - y_m)```\n",
    "\n",
    "De aquí, aplicando sumatorio a cada uno de los factores anteriores se deduce que para demostrar que ```SST = SSR + SSD ```, tenemos que probar que:\n",
    "\n",
    "```sum(y_i - z_i)(z_i - y_m) = 0```\n",
    "\n",
    "Notemos que podemos obviar el 2 porque para ello expresamos ```(y_i - z_i)(z_i - y_m)``` de la siguiente forma:\n",
    "\n",
    "```(y_i - z_i)(z_i - y_m) = (y_i - z_i)z_i - (y_i - z_i)y_m```\n",
    "\n",
    "Ahora bien, en la demostración del vídeo de la clase 74, la primera ecuación normal vemos que:\n",
    "\n",
    "```sum(y_i - z_i) = 0```\n",
    "\n",
    "Por lo tanto será suficiente ver que\n",
    "\n",
    "```sum(y_i - z_i)z_i = 0```\n",
    "\n",
    "Para ello, basta escribir qué es ```z_i```, no es otra cosa que:\n",
    "\n",
    "```z_i = a + bx_i```\n",
    "\n",
    "y si entonces sustituimos en la suma anterior y operamos, tenemos que:\n",
    "\n",
    "```sum(y_i - z_i)z_i = sum(y_i - z_i)a + b*sum(y_i - z_i)x_i```\n",
    "\n",
    "De nuevo, el primero sumatorio es cero por la primera ecuación. El segundo sumatorio también es cero por la segunda ecuación normal que aparece en el minuto 5:26 del vídeo 74.\n",
    "\n",
    "\n",
    "\n"
   ]
  },
  {
   "cell_type": "code",
   "execution_count": null,
   "metadata": {},
   "outputs": [],
   "source": []
  }
 ],
 "metadata": {
  "kernelspec": {
   "display_name": "Python 3",
   "language": "python",
   "name": "python3"
  },
  "language_info": {
   "codemirror_mode": {
    "name": "ipython",
    "version": 3
   },
   "file_extension": ".py",
   "mimetype": "text/x-python",
   "name": "python",
   "nbconvert_exporter": "python",
   "pygments_lexer": "ipython3",
   "version": "3.7.4"
  }
 },
 "nbformat": 4,
 "nbformat_minor": 2
}
